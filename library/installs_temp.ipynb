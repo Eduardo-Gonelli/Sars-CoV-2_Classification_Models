{
 "cells": [
  {
   "cell_type": "code",
   "execution_count": 1,
   "metadata": {},
   "outputs": [
    {
     "name": "stdout",
     "output_type": "stream",
     "text": [
      "Collecting opencv-python\n",
      "  Downloading opencv_python-4.7.0.72-cp37-abi3-win_amd64.whl (38.2 MB)\n",
      "     ---------------------------------------- 0.0/38.2 MB ? eta -:--:--\n",
      "     ---------------------------------------- 0.2/38.2 MB 4.7 MB/s eta 0:00:09\n",
      "      --------------------------------------- 0.5/38.2 MB 5.3 MB/s eta 0:00:08\n",
      "      --------------------------------------- 0.7/38.2 MB 4.6 MB/s eta 0:00:09\n",
      "      --------------------------------------- 0.8/38.2 MB 4.3 MB/s eta 0:00:09\n",
      "     - -------------------------------------- 1.0/38.2 MB 4.1 MB/s eta 0:00:10\n",
      "     - -------------------------------------- 1.1/38.2 MB 4.1 MB/s eta 0:00:09\n",
      "     - -------------------------------------- 1.2/38.2 MB 3.9 MB/s eta 0:00:10\n",
      "     - -------------------------------------- 1.4/38.2 MB 3.8 MB/s eta 0:00:10\n",
      "     - -------------------------------------- 1.5/38.2 MB 3.8 MB/s eta 0:00:10\n",
      "     - -------------------------------------- 1.7/38.2 MB 3.7 MB/s eta 0:00:10\n",
      "     - -------------------------------------- 1.9/38.2 MB 3.7 MB/s eta 0:00:10\n",
      "     -- ------------------------------------- 2.0/38.2 MB 3.7 MB/s eta 0:00:10\n",
      "     -- ------------------------------------- 2.2/38.2 MB 3.6 MB/s eta 0:00:10\n",
      "     -- ------------------------------------- 2.3/38.2 MB 3.6 MB/s eta 0:00:10\n",
      "     -- ------------------------------------- 2.4/38.2 MB 3.5 MB/s eta 0:00:11\n",
      "     -- ------------------------------------- 2.6/38.2 MB 3.5 MB/s eta 0:00:11\n",
      "     -- ------------------------------------- 2.7/38.2 MB 3.4 MB/s eta 0:00:11\n",
      "     -- ------------------------------------- 2.8/38.2 MB 3.5 MB/s eta 0:00:11\n",
      "     --- ------------------------------------ 3.0/38.2 MB 3.4 MB/s eta 0:00:11\n",
      "     --- ------------------------------------ 3.1/38.2 MB 3.4 MB/s eta 0:00:11\n",
      "     --- ------------------------------------ 3.2/38.2 MB 3.4 MB/s eta 0:00:11\n",
      "     --- ------------------------------------ 3.4/38.2 MB 3.4 MB/s eta 0:00:11\n",
      "     --- ------------------------------------ 3.5/38.2 MB 3.3 MB/s eta 0:00:11\n",
      "     --- ------------------------------------ 3.7/38.2 MB 3.4 MB/s eta 0:00:11\n",
      "     --- ------------------------------------ 3.8/38.2 MB 3.3 MB/s eta 0:00:11\n",
      "     ---- ----------------------------------- 3.9/38.2 MB 3.3 MB/s eta 0:00:11\n",
      "     ---- ----------------------------------- 4.0/38.2 MB 3.3 MB/s eta 0:00:11\n",
      "     ---- ----------------------------------- 4.4/38.2 MB 3.4 MB/s eta 0:00:10\n",
      "     ----- ---------------------------------- 5.1/38.2 MB 3.8 MB/s eta 0:00:09\n",
      "     ------ --------------------------------- 6.2/38.2 MB 4.5 MB/s eta 0:00:08\n",
      "     ------- -------------------------------- 7.1/38.2 MB 5.0 MB/s eta 0:00:07\n",
      "     -------- ------------------------------- 8.3/38.2 MB 5.6 MB/s eta 0:00:06\n",
      "     --------- ------------------------------ 9.4/38.2 MB 6.2 MB/s eta 0:00:05\n",
      "     ----------- ---------------------------- 10.6/38.2 MB 6.9 MB/s eta 0:00:04\n",
      "     ------------ -------------------------- 12.4/38.2 MB 10.1 MB/s eta 0:00:03\n",
      "     -------------- ------------------------ 13.9/38.2 MB 19.3 MB/s eta 0:00:02\n",
      "     --------------- ----------------------- 15.3/38.2 MB 27.3 MB/s eta 0:00:01\n",
      "     ----------------- --------------------- 17.2/38.2 MB 31.1 MB/s eta 0:00:01\n",
      "     ------------------ -------------------- 18.1/38.2 MB 29.8 MB/s eta 0:00:01\n",
      "     -------------------- ------------------ 19.6/38.2 MB 29.7 MB/s eta 0:00:01\n",
      "     --------------------- ----------------- 20.9/38.2 MB 31.2 MB/s eta 0:00:01\n",
      "     ---------------------- ---------------- 22.3/38.2 MB 29.7 MB/s eta 0:00:01\n",
      "     ------------------------ -------------- 23.7/38.2 MB 29.7 MB/s eta 0:00:01\n",
      "     ------------------------- ------------- 24.9/38.2 MB 29.7 MB/s eta 0:00:01\n",
      "     --------------------------- ----------- 26.7/38.2 MB 29.7 MB/s eta 0:00:01\n",
      "     ---------------------------- ---------- 28.3/38.2 MB 31.1 MB/s eta 0:00:01\n",
      "     ------------------------------- ------- 30.4/38.2 MB 32.8 MB/s eta 0:00:01\n",
      "     -------------------------------- ------ 31.9/38.2 MB 34.4 MB/s eta 0:00:01\n",
      "     ---------------------------------- ---- 33.9/38.2 MB 38.6 MB/s eta 0:00:01\n",
      "     ------------------------------------ -- 35.5/38.2 MB 38.5 MB/s eta 0:00:01\n",
      "     ------------------------------------- - 37.0/38.2 MB 38.5 MB/s eta 0:00:01\n",
      "     --------------------------------------  38.2/38.2 MB 36.4 MB/s eta 0:00:01\n",
      "     --------------------------------------  38.2/38.2 MB 36.4 MB/s eta 0:00:01\n",
      "     --------------------------------------  38.2/38.2 MB 36.4 MB/s eta 0:00:01\n",
      "     --------------------------------------  38.2/38.2 MB 36.4 MB/s eta 0:00:01\n",
      "     --------------------------------------  38.2/38.2 MB 36.4 MB/s eta 0:00:01\n",
      "     --------------------------------------- 38.2/38.2 MB 17.7 MB/s eta 0:00:00\n",
      "Requirement already satisfied: numpy>=1.21.2 in c:\\users\\dudan\\miniconda3\\lib\\site-packages (from opencv-python) (1.24.3)\n",
      "Installing collected packages: opencv-python\n",
      "Successfully installed opencv-python-4.7.0.72\n",
      "Note: you may need to restart the kernel to use updated packages.\n"
     ]
    }
   ],
   "source": [
    "%pip install opencv-python"
   ]
  },
  {
   "cell_type": "code",
   "execution_count": 3,
   "metadata": {},
   "outputs": [
    {
     "name": "stdout",
     "output_type": "stream",
     "text": [
      "Collecting seaborn\n",
      "  Using cached seaborn-0.12.2-py3-none-any.whl (293 kB)\n",
      "Requirement already satisfied: numpy!=1.24.0,>=1.17 in c:\\users\\dudan\\appdata\\local\\programs\\python\\python310\\lib\\site-packages (from seaborn) (1.24.3)\n",
      "Requirement already satisfied: pandas>=0.25 in c:\\users\\dudan\\appdata\\local\\programs\\python\\python310\\lib\\site-packages (from seaborn) (2.0.1)\n",
      "Requirement already satisfied: matplotlib!=3.6.1,>=3.1 in c:\\users\\dudan\\appdata\\local\\programs\\python\\python310\\lib\\site-packages (from seaborn) (3.7.1)\n",
      "Requirement already satisfied: contourpy>=1.0.1 in c:\\users\\dudan\\appdata\\local\\programs\\python\\python310\\lib\\site-packages (from matplotlib!=3.6.1,>=3.1->seaborn) (1.0.7)\n",
      "Requirement already satisfied: cycler>=0.10 in c:\\users\\dudan\\appdata\\local\\programs\\python\\python310\\lib\\site-packages (from matplotlib!=3.6.1,>=3.1->seaborn) (0.11.0)\n",
      "Requirement already satisfied: fonttools>=4.22.0 in c:\\users\\dudan\\appdata\\local\\programs\\python\\python310\\lib\\site-packages (from matplotlib!=3.6.1,>=3.1->seaborn) (4.39.4)\n",
      "Requirement already satisfied: kiwisolver>=1.0.1 in c:\\users\\dudan\\appdata\\local\\programs\\python\\python310\\lib\\site-packages (from matplotlib!=3.6.1,>=3.1->seaborn) (1.4.4)\n",
      "Requirement already satisfied: packaging>=20.0 in c:\\users\\dudan\\appdata\\roaming\\python\\python310\\site-packages (from matplotlib!=3.6.1,>=3.1->seaborn) (23.0)\n",
      "Requirement already satisfied: pillow>=6.2.0 in c:\\users\\dudan\\appdata\\local\\programs\\python\\python310\\lib\\site-packages (from matplotlib!=3.6.1,>=3.1->seaborn) (9.5.0)\n",
      "Requirement already satisfied: pyparsing>=2.3.1 in c:\\users\\dudan\\appdata\\local\\programs\\python\\python310\\lib\\site-packages (from matplotlib!=3.6.1,>=3.1->seaborn) (3.0.9)\n",
      "Requirement already satisfied: python-dateutil>=2.7 in c:\\users\\dudan\\appdata\\roaming\\python\\python310\\site-packages (from matplotlib!=3.6.1,>=3.1->seaborn) (2.8.2)\n",
      "Requirement already satisfied: pytz>=2020.1 in c:\\users\\dudan\\appdata\\local\\programs\\python\\python310\\lib\\site-packages (from pandas>=0.25->seaborn) (2023.3)\n",
      "Requirement already satisfied: tzdata>=2022.1 in c:\\users\\dudan\\appdata\\local\\programs\\python\\python310\\lib\\site-packages (from pandas>=0.25->seaborn) (2023.3)\n",
      "Requirement already satisfied: six>=1.5 in c:\\users\\dudan\\appdata\\roaming\\python\\python310\\site-packages (from python-dateutil>=2.7->matplotlib!=3.6.1,>=3.1->seaborn) (1.16.0)\n",
      "Installing collected packages: seaborn\n",
      "Successfully installed seaborn-0.12.2\n",
      "Note: you may need to restart the kernel to use updated packages.\n"
     ]
    }
   ],
   "source": [
    "%pip install seaborn"
   ]
  },
  {
   "cell_type": "code",
   "execution_count": 1,
   "metadata": {},
   "outputs": [
    {
     "name": "stdout",
     "output_type": "stream",
     "text": [
      "Collecting numpy\n",
      "  Downloading numpy-1.25.0-cp310-cp310-win_amd64.whl (15.0 MB)\n",
      "     ---------------------------------------- 0.0/15.0 MB ? eta -:--:--\n",
      "      --------------------------------------- 0.3/15.0 MB 6.3 MB/s eta 0:00:03\n",
      "     -- ------------------------------------- 1.1/15.0 MB 11.7 MB/s eta 0:00:02\n",
      "     ------ --------------------------------- 2.4/15.0 MB 17.1 MB/s eta 0:00:01\n",
      "     ----------- ---------------------------- 4.3/15.0 MB 23.0 MB/s eta 0:00:01\n",
      "     ---------------- ----------------------- 6.2/15.0 MB 26.3 MB/s eta 0:00:01\n",
      "     ---------------------- ----------------- 8.3/15.0 MB 29.5 MB/s eta 0:00:01\n",
      "     --------------------------- ----------- 10.5/15.0 MB 36.4 MB/s eta 0:00:01\n",
      "     --------------------------------- ----- 12.8/15.0 MB 43.7 MB/s eta 0:00:01\n",
      "     --------------------------------------  15.0/15.0 MB 50.4 MB/s eta 0:00:01\n",
      "     --------------------------------------  15.0/15.0 MB 50.4 MB/s eta 0:00:01\n",
      "     --------------------------------------- 15.0/15.0 MB 34.4 MB/s eta 0:00:00\n",
      "Installing collected packages: numpy\n",
      "Successfully installed numpy-1.25.0\n",
      "Note: you may need to restart the kernel to use updated packages.\n"
     ]
    },
    {
     "name": "stderr",
     "output_type": "stream",
     "text": [
      "ERROR: pip's dependency resolver does not currently take into account all the packages that are installed. This behaviour is the source of the following dependency conflicts.\n",
      "numba 0.57.0 requires numpy<1.25,>=1.21, but you have numpy 1.25.0 which is incompatible.\n"
     ]
    }
   ],
   "source": [
    "%pip install numpy"
   ]
  },
  {
   "cell_type": "code",
   "execution_count": 2,
   "metadata": {},
   "outputs": [
    {
     "name": "stdout",
     "output_type": "stream",
     "text": [
      "Collecting tensorflow\n",
      "  Using cached tensorflow-2.12.0-cp310-cp310-win_amd64.whl (1.9 kB)\n",
      "Collecting tensorflow-intel==2.12.0\n",
      "  Using cached tensorflow_intel-2.12.0-cp310-cp310-win_amd64.whl (272.8 MB)\n",
      "Requirement already satisfied: termcolor>=1.1.0 in c:\\users\\dudan\\miniconda3\\lib\\site-packages (from tensorflow-intel==2.12.0->tensorflow) (2.3.0)\n",
      "Collecting tensorboard<2.13,>=2.12\n",
      "  Using cached tensorboard-2.12.3-py3-none-any.whl (5.6 MB)\n",
      "Requirement already satisfied: typing-extensions>=3.6.6 in c:\\users\\dudan\\miniconda3\\lib\\site-packages (from tensorflow-intel==2.12.0->tensorflow) (4.5.0)\n",
      "Collecting gast<=0.4.0,>=0.2.1\n",
      "  Using cached gast-0.4.0-py3-none-any.whl (9.8 kB)\n",
      "Requirement already satisfied: wrapt<1.15,>=1.11.0 in c:\\users\\dudan\\miniconda3\\lib\\site-packages (from tensorflow-intel==2.12.0->tensorflow) (1.14.1)\n",
      "Collecting opt-einsum>=2.3.2\n",
      "  Using cached opt_einsum-3.3.0-py3-none-any.whl (65 kB)\n",
      "Requirement already satisfied: tensorflow-io-gcs-filesystem>=0.23.1 in c:\\users\\dudan\\miniconda3\\lib\\site-packages (from tensorflow-intel==2.12.0->tensorflow) (0.31.0)\n",
      "Collecting keras<2.13,>=2.12.0\n",
      "  Using cached keras-2.12.0-py2.py3-none-any.whl (1.7 MB)\n",
      "Collecting absl-py>=1.0.0\n",
      "  Using cached absl_py-1.4.0-py3-none-any.whl (126 kB)\n",
      "Requirement already satisfied: flatbuffers>=2.0 in c:\\users\\dudan\\miniconda3\\lib\\site-packages (from tensorflow-intel==2.12.0->tensorflow) (23.5.26)\n",
      "Collecting jax>=0.3.15\n",
      "  Using cached jax-0.4.13-py3-none-any.whl\n",
      "Requirement already satisfied: protobuf!=4.21.0,!=4.21.1,!=4.21.2,!=4.21.3,!=4.21.4,!=4.21.5,<5.0.0dev,>=3.20.3 in c:\\users\\dudan\\miniconda3\\lib\\site-packages (from tensorflow-intel==2.12.0->tensorflow) (4.23.3)\n",
      "Collecting h5py>=2.9.0\n",
      "  Using cached h5py-3.9.0-cp310-cp310-win_amd64.whl (2.7 MB)\n",
      "Collecting numpy<1.24,>=1.22\n",
      "  Using cached numpy-1.23.5-cp310-cp310-win_amd64.whl (14.6 MB)\n",
      "Collecting grpcio<2.0,>=1.24.3\n",
      "  Using cached grpcio-1.56.0-cp310-cp310-win_amd64.whl (4.2 MB)\n",
      "Requirement already satisfied: tensorflow-estimator<2.13,>=2.12.0 in c:\\users\\dudan\\miniconda3\\lib\\site-packages (from tensorflow-intel==2.12.0->tensorflow) (2.12.0)\n",
      "Requirement already satisfied: setuptools in c:\\users\\dudan\\miniconda3\\lib\\site-packages (from tensorflow-intel==2.12.0->tensorflow) (65.6.3)\n",
      "Collecting astunparse>=1.6.0\n",
      "  Using cached astunparse-1.6.3-py2.py3-none-any.whl (12 kB)\n",
      "Collecting google-pasta>=0.1.1\n",
      "  Using cached google_pasta-0.2.0-py3-none-any.whl (57 kB)\n",
      "Requirement already satisfied: six>=1.12.0 in c:\\users\\dudan\\miniconda3\\lib\\site-packages (from tensorflow-intel==2.12.0->tensorflow) (1.16.0)\n",
      "Requirement already satisfied: libclang>=13.0.0 in c:\\users\\dudan\\miniconda3\\lib\\site-packages (from tensorflow-intel==2.12.0->tensorflow) (16.0.0)\n",
      "Requirement already satisfied: packaging in c:\\users\\dudan\\miniconda3\\lib\\site-packages (from tensorflow-intel==2.12.0->tensorflow) (23.0)\n",
      "Requirement already satisfied: wheel<1.0,>=0.23.0 in c:\\users\\dudan\\miniconda3\\lib\\site-packages (from astunparse>=1.6.0->tensorflow-intel==2.12.0->tensorflow) (0.38.4)\n",
      "Requirement already satisfied: scipy>=1.7 in c:\\users\\dudan\\miniconda3\\lib\\site-packages (from jax>=0.3.15->tensorflow-intel==2.12.0->tensorflow) (1.10.1)\n",
      "Collecting ml-dtypes>=0.1.0\n",
      "  Using cached ml_dtypes-0.2.0-cp310-cp310-win_amd64.whl (938 kB)\n",
      "Requirement already satisfied: requests<3,>=2.21.0 in c:\\users\\dudan\\miniconda3\\lib\\site-packages (from tensorboard<2.13,>=2.12->tensorflow-intel==2.12.0->tensorflow) (2.29.0)\n",
      "Collecting markdown>=2.6.8\n",
      "  Using cached Markdown-3.4.3-py3-none-any.whl (93 kB)\n",
      "Requirement already satisfied: tensorboard-data-server<0.8.0,>=0.7.0 in c:\\users\\dudan\\miniconda3\\lib\\site-packages (from tensorboard<2.13,>=2.12->tensorflow-intel==2.12.0->tensorflow) (0.7.1)\n",
      "Requirement already satisfied: werkzeug>=1.0.1 in c:\\users\\dudan\\miniconda3\\lib\\site-packages (from tensorboard<2.13,>=2.12->tensorflow-intel==2.12.0->tensorflow) (2.3.6)\n",
      "Collecting google-auth<3,>=1.6.3\n",
      "  Using cached google_auth-2.20.0-py2.py3-none-any.whl (181 kB)\n",
      "Collecting google-auth-oauthlib<1.1,>=0.5\n",
      "  Using cached google_auth_oauthlib-1.0.0-py2.py3-none-any.whl (18 kB)\n",
      "Requirement already satisfied: pyasn1-modules>=0.2.1 in c:\\users\\dudan\\miniconda3\\lib\\site-packages (from google-auth<3,>=1.6.3->tensorboard<2.13,>=2.12->tensorflow-intel==2.12.0->tensorflow) (0.3.0)\n",
      "Requirement already satisfied: urllib3<2.0 in c:\\users\\dudan\\miniconda3\\lib\\site-packages (from google-auth<3,>=1.6.3->tensorboard<2.13,>=2.12->tensorflow-intel==2.12.0->tensorflow) (1.26.15)\n",
      "Requirement already satisfied: rsa<5,>=3.1.4 in c:\\users\\dudan\\miniconda3\\lib\\site-packages (from google-auth<3,>=1.6.3->tensorboard<2.13,>=2.12->tensorflow-intel==2.12.0->tensorflow) (4.9)\n",
      "Collecting cachetools<6.0,>=2.0.0\n",
      "  Using cached cachetools-5.3.1-py3-none-any.whl (9.3 kB)\n",
      "Collecting requests-oauthlib>=0.7.0\n",
      "  Using cached requests_oauthlib-1.3.1-py2.py3-none-any.whl (23 kB)\n",
      "Requirement already satisfied: certifi>=2017.4.17 in c:\\users\\dudan\\miniconda3\\lib\\site-packages (from requests<3,>=2.21.0->tensorboard<2.13,>=2.12->tensorflow-intel==2.12.0->tensorflow) (2023.5.7)\n",
      "Requirement already satisfied: idna<4,>=2.5 in c:\\users\\dudan\\miniconda3\\lib\\site-packages (from requests<3,>=2.21.0->tensorboard<2.13,>=2.12->tensorflow-intel==2.12.0->tensorflow) (3.4)\n",
      "Requirement already satisfied: charset-normalizer<4,>=2 in c:\\users\\dudan\\miniconda3\\lib\\site-packages (from requests<3,>=2.21.0->tensorboard<2.13,>=2.12->tensorflow-intel==2.12.0->tensorflow) (2.0.4)\n",
      "Requirement already satisfied: MarkupSafe>=2.1.1 in c:\\users\\dudan\\miniconda3\\lib\\site-packages (from werkzeug>=1.0.1->tensorboard<2.13,>=2.12->tensorflow-intel==2.12.0->tensorflow) (2.1.1)\n",
      "Requirement already satisfied: pyasn1<0.6.0,>=0.4.6 in c:\\users\\dudan\\miniconda3\\lib\\site-packages (from pyasn1-modules>=0.2.1->google-auth<3,>=1.6.3->tensorboard<2.13,>=2.12->tensorflow-intel==2.12.0->tensorflow) (0.5.0)\n",
      "Requirement already satisfied: oauthlib>=3.0.0 in c:\\users\\dudan\\miniconda3\\lib\\site-packages (from requests-oauthlib>=0.7.0->google-auth-oauthlib<1.1,>=0.5->tensorboard<2.13,>=2.12->tensorflow-intel==2.12.0->tensorflow) (3.2.2)\n",
      "Installing collected packages: numpy, markdown, keras, grpcio, google-pasta, gast, cachetools, astunparse, absl-py, requests-oauthlib, opt-einsum, ml-dtypes, h5py, google-auth, jax, google-auth-oauthlib, tensorboard, tensorflow-intel, tensorflow\n",
      "  Attempting uninstall: numpy\n",
      "    Found existing installation: numpy 1.25.0\n",
      "    Uninstalling numpy-1.25.0:\n",
      "      Successfully uninstalled numpy-1.25.0\n",
      "Successfully installed absl-py-1.4.0 astunparse-1.6.3 cachetools-5.3.1 gast-0.4.0 google-auth-2.20.0 google-auth-oauthlib-1.0.0 google-pasta-0.2.0 grpcio-1.56.0 h5py-3.9.0 jax-0.4.13 keras-2.12.0 markdown-3.4.3 ml-dtypes-0.2.0 numpy-1.23.5 opt-einsum-3.3.0 requests-oauthlib-1.3.1 tensorboard-2.12.3 tensorflow-2.12.0 tensorflow-intel-2.12.0\n",
      "Note: you may need to restart the kernel to use updated packages.\n"
     ]
    }
   ],
   "source": [
    "%pip install tensorflow"
   ]
  },
  {
   "cell_type": "code",
   "execution_count": null,
   "metadata": {},
   "outputs": [],
   "source": []
  }
 ],
 "metadata": {
  "kernelspec": {
   "display_name": "Python 3",
   "language": "python",
   "name": "python3"
  },
  "language_info": {
   "codemirror_mode": {
    "name": "ipython",
    "version": 3
   },
   "file_extension": ".py",
   "mimetype": "text/x-python",
   "name": "python",
   "nbconvert_exporter": "python",
   "pygments_lexer": "ipython3",
   "version": "3.10.9"
  },
  "orig_nbformat": 4
 },
 "nbformat": 4,
 "nbformat_minor": 2
}
